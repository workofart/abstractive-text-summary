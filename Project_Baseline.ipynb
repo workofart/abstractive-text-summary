{
  "nbformat": 4,
  "nbformat_minor": 0,
  "metadata": {
    "colab": {
      "name": "ESE546_Project_Baseline_Working_v2.ipynb",
      "provenance": [],
      "collapsed_sections": []
    },
    "kernelspec": {
      "name": "python3",
      "display_name": "Python 3"
    },
    "accelerator": "GPU"
  },
  "cells": [
    {
      "cell_type": "code",
      "metadata": {
        "id": "kVFe6ZtPNycx"
      },
      "source": [
        "from IPython.display import HTML, display\n",
        "\n",
        "def set_css():\n",
        "  display(HTML('''\n",
        "  <style>\n",
        "    pre {\n",
        "        white-space: pre-wrap;\n",
        "    }\n",
        "  </style>\n",
        "  '''))\n",
        "get_ipython().events.register('pre_run_cell', set_css)"
      ],
      "execution_count": 1,
      "outputs": []
    },
    {
      "cell_type": "markdown",
      "metadata": {
        "id": "X8RELhnh3uYa"
      },
      "source": [
        "## Module Imports"
      ]
    },
    {
      "cell_type": "code",
      "metadata": {
        "colab": {
          "base_uri": "https://localhost:8080/",
          "height": 87
        },
        "id": "N3f5SfJj3xD7",
        "outputId": "91e73781-c92b-4879-ea73-8526577c3613"
      },
      "source": [
        "import torch\n",
        "import torchvision\n",
        "import torch.nn as nn\n",
        "import torch.nn.functional as F\n",
        "import torch.optim as optim\n",
        "import numpy as np\n",
        "import random\n",
        "import os\n",
        "import nltk\n",
        "nltk.download('punkt')\n",
        "nltk.download('stopwords')\n",
        "from nltk.corpus import stopwords\n",
        "from nltk.tokenize import word_tokenize\n",
        "from matplotlib import pyplot as plt\n",
        "from torch.nn.utils.rnn import pad_sequence\n",
        "import glob\n",
        "import itertools\n",
        "import pickle\n",
        "import re\n",
        "import pandas as pd\n",
        "from tqdm import tqdm\n",
        "from sklearn.model_selection import train_test_split\n",
        "!pip install rouge-score"
      ],
      "execution_count": 3,
      "outputs": [
        {
          "output_type": "display_data",
          "data": {
            "text/html": [
              "\n",
              "  <style>\n",
              "    pre {\n",
              "        white-space: pre-wrap;\n",
              "    }\n",
              "  </style>\n",
              "  "
            ],
            "text/plain": [
              "<IPython.core.display.HTML object>"
            ]
          },
          "metadata": {
            "tags": []
          }
        },
        {
          "output_type": "stream",
          "text": [
            "[nltk_data] Downloading package punkt to /root/nltk_data...\n",
            "[nltk_data]   Unzipping tokenizers/punkt.zip.\n",
            "[nltk_data] Downloading package stopwords to /root/nltk_data...\n",
            "[nltk_data]   Unzipping corpora/stopwords.zip.\n"
          ],
          "name": "stdout"
        }
      ]
    },
    {
      "cell_type": "markdown",
      "metadata": {
        "id": "2K_PprI331d6"
      },
      "source": [
        "## Constants"
      ]
    },
    {
      "cell_type": "code",
      "metadata": {
        "colab": {
          "base_uri": "https://localhost:8080/",
          "height": 34
        },
        "id": "z-_Di8K832w4",
        "outputId": "87dc93a9-2f85-4bb4-f830-936908b98395"
      },
      "source": [
        "drive_prefix = '/content/drive/MyDrive/ese546/'\n",
        "PATH_TRAIN_X = drive_prefix + 'cnndm/train.txt.src'\n",
        "PATH_TRAIN_Y = drive_prefix + 'cnndm/train.txt.tgt.tagged'\n",
        "\n",
        "PATH_VAL_X = drive_prefix + 'cnndm/val.txt.src'\n",
        "PATH_VAL_Y = drive_prefix + 'cnndm/val.txt.tgt.tagged'\n",
        "\n",
        "PATH_TEST_X = drive_prefix + 'cnndm/test.txt.src'\n",
        "PATH_TEST_Y = drive_prefix + 'cnndm/test.txt.tgt.tagged'\n",
        "\n",
        "# STOP_WORDS = set(stopwords.words('english')) \n",
        "STOP_WORDS = set()\n",
        "EMB_SIZE = 300\n",
        "GLOVE_EMB = drive_prefix + f'glove.6B.{EMB_SIZE}d.txt'\n",
        "BATCH_SIZE = 32\n",
        "EPSILON = 0.5 # for deciding between feeding (model's output OR target) as input\n",
        "\n",
        "START_CHAR = 'starttoken'\n",
        "END_CHAR = 'endtoken'\n",
        "PAD_CHAR = 'padtoken'\n",
        "\n",
        "MAX_ARTICLE_LEN = 300 # the article can have at most 300 tokens\n",
        "MAX_DECODER_OUTPUT = 100 # labels can have at most 100 tokens\n",
        "\n",
        "# NN Hyper-parameters\n",
        "E_HIDDEN_DIM = 200\n",
        "D_HIDDEN_DIM = 200\n",
        "\n",
        "EP = 4000\n",
        "PRINT_EVERY_EP = 100\n",
        "SAVE_MODEL_EVERY_EP = 500\n",
        "FORCE_CREATE_DICT = True # force to recreate the word features from scratch\n",
        "\n",
        "\n",
        "device = torch.device(\"cuda\" if torch.cuda.is_available() else \"cpu\")\n",
        "print(device)\n",
        "torch.cuda.empty_cache()"
      ],
      "execution_count": 4,
      "outputs": [
        {
          "output_type": "display_data",
          "data": {
            "text/html": [
              "\n",
              "  <style>\n",
              "    pre {\n",
              "        white-space: pre-wrap;\n",
              "    }\n",
              "  </style>\n",
              "  "
            ],
            "text/plain": [
              "<IPython.core.display.HTML object>"
            ]
          },
          "metadata": {
            "tags": []
          }
        },
        {
          "output_type": "stream",
          "text": [
            "cuda\n"
          ],
          "name": "stdout"
        }
      ]
    },
    {
      "cell_type": "markdown",
      "metadata": {
        "id": "cv4iyPrevW2U"
      },
      "source": [
        "## Things to copy to local MyDrive\n",
        "- glove.6B.300d.txt\n",
        "- news_summary.csv (only need this if you want to reproduce) -> 90k rows (body and labels)\n",
        "- cnndm/test.txt.src -> 900k rows (body)\n",
        "- cnndm/test.txt.tgt.tagged -> 900k rows (labels)\n"
      ]
    },
    {
      "cell_type": "code",
      "metadata": {
        "colab": {
          "base_uri": "https://localhost:8080/",
          "height": 34
        },
        "id": "E3aYagtfvOI9",
        "outputId": "5c89f164-cdd7-4a27-9ee3-449176c80037"
      },
      "source": [
        "from google.colab import drive\n",
        "drive.mount('/content/drive')"
      ],
      "execution_count": 5,
      "outputs": [
        {
          "output_type": "display_data",
          "data": {
            "text/html": [
              "\n",
              "  <style>\n",
              "    pre {\n",
              "        white-space: pre-wrap;\n",
              "    }\n",
              "  </style>\n",
              "  "
            ],
            "text/plain": [
              "<IPython.core.display.HTML object>"
            ]
          },
          "metadata": {
            "tags": []
          }
        },
        {
          "output_type": "stream",
          "text": [
            "Mounted at /content/drive\n"
          ],
          "name": "stdout"
        }
      ]
    },
    {
      "cell_type": "markdown",
      "metadata": {
        "id": "3Dz0tnzBdsxD"
      },
      "source": [
        "## Helper Functions"
      ]
    },
    {
      "cell_type": "code",
      "metadata": {
        "id": "3MU93iEl0rI8",
        "colab": {
          "base_uri": "https://localhost:8080/",
          "height": 16
        },
        "outputId": "f0596f41-5c91-47ae-fb98-71336669ad78"
      },
      "source": [
        "def clean_text(s):\n",
        "    s = s.lower().strip()\n",
        "    s = s.replace('<t>', '').replace('</t>', '').replace('\\n', '')\n",
        "    s = s.replace('-lrb-', '').replace('-rrb-', '')\n",
        "    s = re.sub(r'\\([^)]*\\)', '', s)\n",
        "    s = re.sub('\"','', s)\n",
        "    s = re.sub(r\"'s\\b\",\"\",s)\n",
        "    s = re.sub(\"[^a-zA-Z]\", \" \", s)\n",
        "    # s = re.sub(r\"([.!?])\", r\" \\1\", s)\n",
        "    # s = re.sub(r\"[^a-zA-Z.!?]+\", r\" \", s)\n",
        "    return s\n",
        "\n",
        "\n",
        "def create_word_vec(input_text, input_label, force_create):\n",
        "    word_idx_dict = {} # { word : the index of that word in the dictionary}\n",
        "    idx_word_dict = {} # { index of word : word }\n",
        "    \n",
        "    # 1. Create mapping between words and the corresponding embedding values\n",
        "    embed_file_path = drive_prefix + f'{EMB_SIZE}d_embed_dict'\n",
        "    if os.path.exists(embed_file_path) and not force_create:\n",
        "        print('Embedding dictionary exists, loading from file...')\n",
        "        embedding_dict = pickle.load(open(embed_file_path, 'rb'))\n",
        "    else:\n",
        "        embedding_dict = {} \n",
        "        \n",
        "        for line in glove:\n",
        "            tokens = line.split()\n",
        "            embedding_dict[tokens[0]] = np.array(tokens[1:], dtype='float32')\n",
        "        pickle.dump(embedding_dict, open(embed_file_path, 'wb'))\n",
        "        print('Saved embedding dictionary')\n",
        "\n",
        "    # 2. Tokenize the input_text and labels\n",
        "    if os.path.exists(drive_prefix + 'train_word_idx_dict') and not force_create:\n",
        "        print('Word-to-index dictionary exists, loading from file...')\n",
        "        word_idx_dict = pickle.load(open(drive_prefix + 'train_word_idx_dict', 'rb'))\n",
        "    if os.path.exists(drive_prefix + 'train_idx_word_dict') and not force_create:\n",
        "        print('Index-to-word dictionary exists, loading from file...')\n",
        "        idx_word_dict = pickle.load(open(drive_prefix + 'train_idx_word_dict', 'rb'))\n",
        "    else:\n",
        "        unique_tokens = set([])\n",
        "        for line in input_text:\n",
        "            unique_tokens = unique_tokens.union(word_tokenize(line))\n",
        "        for line in input_label:\n",
        "            unique_tokens = unique_tokens.union(word_tokenize(line))\n",
        "\n",
        "        for token in unique_tokens:\n",
        "            word_idx_dict[token] = len(word_idx_dict)\n",
        "                \n",
        "        # 2.1 Add in the special tokens to the dictionary, note that the START_CHAR and END_CHAR have been added\n",
        "        # during the preprocessing stage\n",
        "        word_idx_dict[PAD_CHAR] = len(word_idx_dict)\n",
        "        \n",
        "        idx_word_dict = dict(zip(word_idx_dict.values(), word_idx_dict.keys()))\n",
        "    \n",
        "    # 3. Build the word vector for all the words in our dictionary\n",
        "    if os.path.exists(drive_prefix + 'train_word_vector') and not force_create:\n",
        "        print('Word Vector exists, loading from file...')\n",
        "        word_vector = pickle.load(open(drive_prefix + 'train_word_vector', 'rb'))\n",
        "    else:\n",
        "        word_vector = []\n",
        "        for idx, token in idx_word_dict.items():            \n",
        "            if token in embedding_dict:\n",
        "                word_vector.append(embedding_dict[token])\n",
        "            # Append the special tokens to the word vector and assign random values\n",
        "            elif token in [START_CHAR, END_CHAR, PAD_CHAR]:\n",
        "                word_vector.append(np.random.normal(0, 1, EMB_SIZE))\n",
        "            # if the token doesn't have an embedding, we set to 0\n",
        "            else:\n",
        "                word_vector.append(np.zeros([EMB_SIZE]))\n",
        "    \n",
        "    ## Save the dictionaries\n",
        "    pickle.dump(word_idx_dict, open(drive_prefix + 'train_word_idx_dict', 'wb'))\n",
        "    pickle.dump(idx_word_dict, open(drive_prefix + 'train_idx_word_dict', 'wb'))\n",
        "    pickle.dump(word_vector, open(drive_prefix + 'train_word_vector', 'wb'))\n",
        "\n",
        "    # The index in word_vec corresponds to the article index in the original X_Test array\n",
        "    return np.array(word_vector), word_idx_dict, idx_word_dict\n",
        "\n",
        "def sentence_to_idx(sentence, word_to_idx):\n",
        "    tokens = word_tokenize(sentence)\n",
        "    return [word_to_idx[token] for token in tokens if token in word_to_idx]\n",
        "\n",
        "def decontracted(text):\n",
        "    '''Clean text by removing unnecessary characters and altering the format of words.'''\n",
        "    text = text.lower()\n",
        "    text = re.sub(r\"i'm\", \"i am\", text)\n",
        "    text = re.sub(r\"he's\", \"he is\", text)\n",
        "    text = re.sub(r\"she's\", \"she is\", text)\n",
        "    text = re.sub(r\"it's\", \"it is\", text)\n",
        "    text = re.sub(r\"that's\", \"that is\", text)\n",
        "    text = re.sub(r\"what's\", \"that is\", text)\n",
        "    text = re.sub(r\"where's\", \"where is\", text)\n",
        "    text = re.sub(r\"how's\", \"how is\", text)\n",
        "    text = re.sub(r\"\\'ll\", \" will\", text)\n",
        "    text = re.sub(r\"\\'ve\", \" have\", text)\n",
        "    text = re.sub(r\"\\'re\", \" are\", text)\n",
        "    text = re.sub(r\"\\'d\", \" would\", text)\n",
        "    text = re.sub(r\"\\'re\", \" are\", text)\n",
        "    text = re.sub(r\"won't\", \"will not\", text)\n",
        "    text = re.sub(r\"can't\", \"cannot\", text)\n",
        "    text = re.sub(r\"n't\", \" not\", text)\n",
        "    text = re.sub(r\"n'\", \"ng\", text)\n",
        "    text = re.sub(r\"'bout\", \"about\", text)\n",
        "    text = re.sub(r\"'til\", \"until\", text)\n",
        "    text = re.sub(r\"[-()\\\"#/@;:<>{}`+=~|.!?,]\", \"\", text) \n",
        "    return text\n",
        "\n",
        "def pre_process(column, max_len):\n",
        "    preprocessed_text = []\n",
        "    # tqdm is for printing the status bar\n",
        "    for sentence in tqdm(column.astype(str)):\n",
        "        sent = decontracted(sentence)\n",
        "        sent = sent.replace('\\\\r', ' ')\n",
        "        sent = sent.replace('\\\\\"', ' ')\n",
        "        sent = sent.replace('\\\\n', ' ')\n",
        "        sent = re.sub(\"^\\d+\\s|\\s\\d+\\s|\\s\\d+$\", \" \", sent)\n",
        "        sent = re.sub('[^A-Za-z0-9]+', ' ', sent)\n",
        "        sent=re.sub('<[^>]*>', '', sent)\n",
        "        # trim longer articles\n",
        "        sent = sent.lower().strip()\n",
        "        sent = ' '.join(sent.split()[:max_len])\n",
        "        preprocessed_text.append(sent)\n",
        "    return preprocessed_text\n",
        "\n",
        "## TODO: REFERENCE\n",
        "def zeroPadding(l, fillvalue=PAD_CHAR):\n",
        "    return list(itertools.zip_longest(*l, fillvalue=fillvalue))\n",
        "\n",
        "def binaryMatrix(l, value=PAD_CHAR):\n",
        "    m = []\n",
        "    for i, seq in enumerate(l):\n",
        "        m.append([])\n",
        "        for token in seq:\n",
        "            if token == PAD_CHAR:\n",
        "                m[i].append(0)\n",
        "            else:\n",
        "                m[i].append(1)\n",
        "    return m\n",
        "\n",
        "def plot(train_loss, val_loss):\n",
        "    plt.plot(train_loss, label='Train')\n",
        "    plt.plot(val_loss, label='Val')\n",
        "    plt.title('Training vs Validation Loss')\n",
        "    plt.xlabel('Episodes')\n",
        "    plt.ylabel('Loss')\n",
        "    plt.legend()\n",
        "    plt.show()"
      ],
      "execution_count": 28,
      "outputs": [
        {
          "output_type": "display_data",
          "data": {
            "text/html": [
              "\n",
              "  <style>\n",
              "    pre {\n",
              "        white-space: pre-wrap;\n",
              "    }\n",
              "  </style>\n",
              "  "
            ],
            "text/plain": [
              "<IPython.core.display.HTML object>"
            ]
          },
          "metadata": {
            "tags": []
          }
        }
      ]
    },
    {
      "cell_type": "markdown",
      "metadata": {
        "id": "nzP3thGSe3Rq"
      },
      "source": [
        "## Read Data"
      ]
    },
    {
      "cell_type": "markdown",
      "metadata": {
        "id": "b_f5P8oAiRKx"
      },
      "source": [
        "### Data Source 2"
      ]
    },
    {
      "cell_type": "code",
      "metadata": {
        "id": "2l7UfBT6e5Uv",
        "colab": {
          "base_uri": "https://localhost:8080/",
          "height": 16
        },
        "outputId": "449604eb-8904-4d28-de79-36573a6ecea9"
      },
      "source": [
        "with open(PATH_TEST_X, 'r') as f:\n",
        "    X_Test = f.readlines()\n",
        "    \n",
        "with open(PATH_TEST_Y, 'r') as f:\n",
        "    Y_Test = f.readlines()\n",
        "    \n",
        "with open(GLOVE_EMB, 'r', encoding='utf-8') as f:\n",
        "    glove = f.readlines()"
      ],
      "execution_count": 14,
      "outputs": [
        {
          "output_type": "display_data",
          "data": {
            "text/html": [
              "\n",
              "  <style>\n",
              "    pre {\n",
              "        white-space: pre-wrap;\n",
              "    }\n",
              "  </style>\n",
              "  "
            ],
            "text/plain": [
              "<IPython.core.display.HTML object>"
            ]
          },
          "metadata": {
            "tags": []
          }
        }
      ]
    },
    {
      "cell_type": "code",
      "metadata": {
        "colab": {
          "base_uri": "https://localhost:8080/",
          "height": 88
        },
        "id": "3aMqKff98jaE",
        "outputId": "bb32b372-e3ef-4319-bf16-8ba083a97691"
      },
      "source": [
        "X_Test[0]"
      ],
      "execution_count": 10,
      "outputs": [
        {
          "output_type": "display_data",
          "data": {
            "text/html": [
              "\n",
              "  <style>\n",
              "    pre {\n",
              "        white-space: pre-wrap;\n",
              "    }\n",
              "  </style>\n",
              "  "
            ],
            "text/plain": [
              "<IPython.core.display.HTML object>"
            ]
          },
          "metadata": {
            "tags": []
          }
        },
        {
          "output_type": "execute_result",
          "data": {
            "application/vnd.google.colaboratory.intrinsic+json": {
              "type": "string"
            },
            "text/plain": [
              "\"marseille , france -lrb- cnn -rrb- the french prosecutor leading an investigation into the crash of germanwings flight 9525 insisted wednesday that he was not aware of any video footage from on board the plane . marseille prosecutor brice robin told cnn that `` so far no videos were used in the crash investigation . '' he added , `` a person who has such a video needs to immediately give it to the investigators . '' robin 's comments follow claims by two magazines , german daily bild and french paris match , of a cell phone video showing the harrowing final seconds from on board germanwings flight 9525 as it crashed into the french alps . all 150 on board were killed . paris match and bild reported that the video was recovered from a phone at the wreckage site . the two publications described the supposed video , but did not post it on their websites . the publications said that they watched the video , which was found by a source close to the investigation . `` one can hear cries of ` my god ' in several languages , '' paris match reported . `` metallic banging can also be heard more than three times , perhaps of the pilot trying to open the cockpit door with a heavy object . towards the end , after a heavy shake , stronger than the others , the screaming intensifies . then nothing . '' `` it is a very disturbing scene , '' said julian reichelt , editor-in-chief of bild online . an official with france 's accident investigation agency , the bea , said the agency is not aware of any such video . lt. col. jean-marc menichini , a french gendarmerie spokesman in charge of communications on rescue efforts around the germanwings crash site , told cnn that the reports were `` completely wrong '' and `` unwarranted . '' cell phones have been collected at the site , he said , but that they `` had n't been exploited yet . '' menichini said he believed the cell phones would need to be sent to the criminal research institute in rosny sous-bois , near paris , in order to be analyzed by specialized technicians working hand-in-hand with investigators . but none of the cell phones found so far have been sent to the institute , menichini said . asked whether staff involved in the search could have leaked a memory card to the media , menichini answered with a categorical `` no . '' reichelt told `` erin burnett : outfront '' that he had watched the video and stood by the report , saying bild and paris match are `` very confident '' that the clip is real . he noted that investigators only revealed they 'd recovered cell phones from the crash site after bild and paris match published their reports . `` that is something we did not know before . ... overall we can say many things of the investigation were n't revealed by the investigation at the beginning , '' he said . what was mental state of germanwings co-pilot ? german airline lufthansa confirmed tuesday that co-pilot andreas lubitz had battled depression years before he took the controls of germanwings flight 9525 , which he 's accused of deliberately crashing last week in the french alps . lubitz told his lufthansa flight training school in 2009 that he had a `` previous episode of severe depression , '' the airline said tuesday . email correspondence between lubitz and the school discovered in an internal investigation , lufthansa said , included medical documents he submitted in connection with resuming his flight training . the announcement indicates that lufthansa , the parent company of germanwings , knew of lubitz 's battle with depression , allowed him to continue training and ultimately put him in the cockpit . lufthansa , whose ceo carsten spohr previously said lubitz was 100 % fit to fly , described its statement tuesday as a `` swift and seamless clarification '' and said it was sharing the information and documents -- including training and medical records -- with public prosecutors . spohr traveled to the crash site wednesday , where recovery teams have been working for the past week to recover human remains and plane debris scattered across a steep mountainside . he saw the crisis center set up in seyne-les-alpes , laid a wreath in the village of le vernet , closer to the crash site , where grieving families have left flowers at a simple stone memorial . menichini told cnn late tuesday that no visible human remains were left at the site but recovery teams would keep searching . french president francois hollande , speaking tuesday , said that it should be possible to identify all the victims using dna analysis by the end of the week , sooner than authorities had previously suggested . in the meantime , the recovery of the victims ' personal belongings will start wednesday , menichini said . among those personal belongings could be more cell phones belonging to the 144 passengers and six crew on board . check out the latest from our correspondents . the details about lubitz 's correspondence with the flight school during his training were among several developments as investigators continued to delve into what caused the crash and lubitz 's possible motive for downing the jet . a lufthansa spokesperson told cnn on tuesday that lubitz had a valid medical certificate , had passed all his examinations and `` held all the licenses required . '' earlier , a spokesman for the prosecutor 's office in dusseldorf , christoph kumpa , said medical records reveal lubitz suffered from suicidal tendencies at some point before his aviation career and underwent psychotherapy before he got his pilot 's license . kumpa emphasized there 's no evidence suggesting lubitz was suicidal or acting aggressively before the crash . investigators are looking into whether lubitz feared his medical condition would cause him to lose his pilot 's license , a european government official briefed on the investigation told cnn on tuesday . while flying was `` a big part of his life , '' the source said , it 's only one theory being considered . another source , a law enforcement official briefed on the investigation , also told cnn that authorities believe the primary motive for lubitz to bring down the plane was that he feared he would not be allowed to fly because of his medical problems . lubitz 's girlfriend told investigators he had seen an eye doctor and a neuropsychologist , both of whom deemed him unfit to work recently and concluded he had psychological issues , the european government official said . but no matter what details emerge about his previous mental health struggles , there 's more to the story , said brian russell , a forensic psychologist . `` psychology can explain why somebody would turn rage inward on themselves about the fact that maybe they were n't going to keep doing their job and they 're upset about that and so they 're suicidal , '' he said . `` but there is no mental illness that explains why somebody then feels entitled to also take that rage and turn it outward on 149 other people who had nothing to do with the person 's problems . '' germanwings crash compensation : what we know . who was the captain of germanwings flight 9525 ? cnn 's margot haddad reported from marseille and pamela brown from dusseldorf , while laura smith-spark wrote from london . cnn 's frederik pleitgen , pamela boykoff , antonia mortensen , sandrine amiel and anna-maja rappard contributed to this report .\\n\""
            ]
          },
          "metadata": {
            "tags": []
          },
          "execution_count": 10
        }
      ]
    },
    {
      "cell_type": "code",
      "metadata": {
        "colab": {
          "base_uri": "https://localhost:8080/",
          "height": 87
        },
        "id": "q-FBHCVHirKK",
        "outputId": "c6bfeb4d-4f31-4b54-b8dc-c739b96c5772"
      },
      "source": [
        "X_Test = pre_process(np.array(X_Test), max_len=MAX_ARTICLE_LEN)[:3000]\n",
        "Y_Test = pre_process(np.array(Y_Test), max_len=MAX_DECODER_OUTPUT)[:3000]\n",
        "Y_Test = list(map(lambda x: f\"{START_CHAR} {x} {END_CHAR}\", Y_Test))\n",
        "\n",
        "X_Test, X_Val, Y_Test, Y_Val = train_test_split(X_Test, Y_Test, test_size=0.3, random_state=23, shuffle=True)\n",
        "print(f'\\nTotal # of stories: {len(X_Test)}')"
      ],
      "execution_count": 15,
      "outputs": [
        {
          "output_type": "display_data",
          "data": {
            "text/html": [
              "\n",
              "  <style>\n",
              "    pre {\n",
              "        white-space: pre-wrap;\n",
              "    }\n",
              "  </style>\n",
              "  "
            ],
            "text/plain": [
              "<IPython.core.display.HTML object>"
            ]
          },
          "metadata": {
            "tags": []
          }
        },
        {
          "output_type": "stream",
          "text": [
            "100%|██████████| 11490/11490 [00:07<00:00, 1542.81it/s]\n",
            "100%|██████████| 11490/11490 [00:00<00:00, 11563.76it/s]\n"
          ],
          "name": "stderr"
        },
        {
          "output_type": "stream",
          "text": [
            "\n",
            "Total # of stories: 2100\n"
          ],
          "name": "stdout"
        }
      ]
    },
    {
      "cell_type": "code",
      "metadata": {
        "colab": {
          "base_uri": "https://localhost:8080/",
          "height": 34
        },
        "id": "AThgmFdrpGX0",
        "outputId": "7dff754b-8bea-4f81-ea01-9cf37881bdda"
      },
      "source": [
        "max(list(map(len, X_Test)))"
      ],
      "execution_count": 12,
      "outputs": [
        {
          "output_type": "display_data",
          "data": {
            "text/html": [
              "\n",
              "  <style>\n",
              "    pre {\n",
              "        white-space: pre-wrap;\n",
              "    }\n",
              "  </style>\n",
              "  "
            ],
            "text/plain": [
              "<IPython.core.display.HTML object>"
            ]
          },
          "metadata": {
            "tags": []
          }
        },
        {
          "output_type": "execute_result",
          "data": {
            "text/plain": [
              "2026"
            ]
          },
          "metadata": {
            "tags": []
          },
          "execution_count": 12
        }
      ]
    },
    {
      "cell_type": "markdown",
      "metadata": {
        "id": "IW5ssqvr4iju"
      },
      "source": [
        "## Features"
      ]
    },
    {
      "cell_type": "code",
      "metadata": {
        "colab": {
          "base_uri": "https://localhost:8080/",
          "height": 52
        },
        "id": "ZwbYo--Z4j6p",
        "outputId": "b6844f06-415f-441b-e526-dd63b21e5d0e"
      },
      "source": [
        "train_word_vector, train_word_idx_dict, train_idx_word_dict = create_word_vec(X_Test, Y_Test, force_create=FORCE_CREATE_DICT)\n",
        "print(f'Word Vector Shape: {train_word_vector.shape}')\n",
        "assert train_word_vector.shape == (len(train_idx_word_dict.keys()), EMB_SIZE)"
      ],
      "execution_count": 16,
      "outputs": [
        {
          "output_type": "display_data",
          "data": {
            "text/html": [
              "\n",
              "  <style>\n",
              "    pre {\n",
              "        white-space: pre-wrap;\n",
              "    }\n",
              "  </style>\n",
              "  "
            ],
            "text/plain": [
              "<IPython.core.display.HTML object>"
            ]
          },
          "metadata": {
            "tags": []
          }
        },
        {
          "output_type": "stream",
          "text": [
            "Saved embedding dictionary\n",
            "Word Vector Shape: (30872, 300)\n"
          ],
          "name": "stdout"
        }
      ]
    },
    {
      "cell_type": "markdown",
      "metadata": {
        "id": "tAEZxF5satqn"
      },
      "source": [
        "## Model"
      ]
    },
    {
      "cell_type": "code",
      "metadata": {
        "colab": {
          "base_uri": "https://localhost:8080/",
          "height": 16
        },
        "id": "WuyIwNIYiZG1",
        "outputId": "b1b2dc70-7563-4db0-e0c2-a04124f9cbb5"
      },
      "source": [
        "# Create the embedding layer weights based on the pre-trained word vector\n",
        "def create_pretrained_emb_layer(word_vector):\n",
        "    # vocab_size, embed_dim = word_vector.shape\n",
        "    embed_layer = nn.Embedding.from_pretrained(torch.tensor(word_vector).float(), freeze=False)    \n",
        "    return embed_layer"
      ],
      "execution_count": 17,
      "outputs": [
        {
          "output_type": "display_data",
          "data": {
            "text/html": [
              "\n",
              "  <style>\n",
              "    pre {\n",
              "        white-space: pre-wrap;\n",
              "    }\n",
              "  </style>\n",
              "  "
            ],
            "text/plain": [
              "<IPython.core.display.HTML object>"
            ]
          },
          "metadata": {
            "tags": []
          }
        }
      ]
    },
    {
      "cell_type": "code",
      "metadata": {
        "colab": {
          "base_uri": "https://localhost:8080/",
          "height": 16
        },
        "id": "hci0r8KJaxST",
        "outputId": "300a10ba-1843-4b21-c208-820182250ba1"
      },
      "source": [
        "class Encoder(nn.Module):\n",
        "    def __init__(self, hidden_dim, embedding_layer, n_layers=1, dropout=0):\n",
        "        super(Encoder, self).__init__()\n",
        "\n",
        "        self.n_layers = n_layers\n",
        "        self.hidden_dim = hidden_dim\n",
        "\n",
        "        self.embedding = embedding_layer\n",
        "        self.gru = nn.GRU(EMB_SIZE,\n",
        "                          hidden_dim,\n",
        "                          num_layers=n_layers,\n",
        "                          dropout=dropout,\n",
        "                          bidirectional=True)\n",
        "\n",
        "    def forward(self, x, lengths, x_h=None):\n",
        "        embedded = self.embedding(x)\n",
        "        # Pack padded batch of sequences for RNN module\n",
        "        packed = torch.nn.utils.rnn.pack_padded_sequence(embedded, lengths, enforce_sorted=False)\n",
        "        # Forward pass through GRU\n",
        "        y_hat, x_h = self.gru(packed, x_h)\n",
        "        # Unpack padding\n",
        "        y_hat, _ = torch.nn.utils.rnn.pad_packed_sequence(y_hat)\n",
        "        # Sum bidirectional GRU outputs\n",
        "        y_hat = y_hat[:, :, :self.hidden_dim] + y_hat[:, : ,self.hidden_dim:]\n",
        "        # Return output and final hidden state\n",
        "\n",
        "        return y_hat, x_h\n",
        "\n",
        "class Attention(nn.Module):\n",
        "    def __init__(self, hidden_dim):\n",
        "        super(Attention, self).__init__()\n",
        "        self.hidden_dim = hidden_dim\n",
        "\n",
        "        self.attention = nn.Linear(hidden_dim * 2, hidden_dim)\n",
        "        self.value = nn.Parameter(torch.FloatTensor(hidden_dim).normal_())\n",
        "\n",
        "    def forward(self, x_h, encoder_output):\n",
        "        energy = self.attention(torch.cat((x_h.expand(encoder_output.size(0), -1, -1), encoder_output), 2)).tanh()\n",
        "        attn_score = torch.sum(self.value * energy, dim=2)\n",
        "\n",
        "        # Transpose max_length and batch_size dimensions\n",
        "        attn_score = attn_score.t()\n",
        "\n",
        "        # the softmax normalized probability scores (with added dimension)\n",
        "        attn_weights = F.softmax(attn_score, dim=1).unsqueeze(1)\n",
        "        return attn_weights\n",
        "\n",
        "\n",
        "class Decoder(nn.Module):\n",
        "    def __init__(self, hidden_dim, output_dim, embedding_layer, n_layers=1, dropout=0.1):\n",
        "        super(Decoder, self).__init__()\n",
        "\n",
        "        self.embedding = embedding_layer # TODO\n",
        "        self.dropout = nn.Dropout(dropout)\n",
        "        self.n_layers = n_layers\n",
        "        self.gru = nn.GRU(input_size=EMB_SIZE,\n",
        "                          hidden_size=hidden_dim,\n",
        "                          num_layers=n_layers,\n",
        "                          dropout=dropout)\n",
        "        \n",
        "        self.attn_gru_combined = nn.Linear(hidden_dim * 2, hidden_dim)\n",
        "        self.out = nn.Linear(hidden_dim, output_dim)\n",
        "\n",
        "        self.attention = Attention(hidden_dim)\n",
        "\n",
        "    def forward(self, x, x_h, encoder_output):\n",
        "        embedded = self.embedding(x)\n",
        "        embedded = self.dropout(embedded)\n",
        "\n",
        "        y_hat, x_h = self.gru(embedded, x_h)\n",
        "\n",
        "        attn_weights = self.attention(y_hat, encoder_output)\n",
        "\n",
        "        # Multiply attention weights to encoder outputs to get new \"weighted sum\" context vector\n",
        "        context = attn_weights.bmm(encoder_output.transpose(0, 1))\n",
        "\n",
        "        # Concatenate weighted context vectors\n",
        "        y_hat = y_hat.squeeze(0)\n",
        "        context = context.squeeze(1)\n",
        "        weighted_context = torch.cat((y_hat, context), 1)\n",
        "\n",
        "        y_hat = torch.tanh(self.attn_gru_combined(weighted_context))\n",
        "\n",
        "        y_hat = F.softmax(self.out(y_hat), dim=1)\n",
        "        return y_hat, x_h"
      ],
      "execution_count": 18,
      "outputs": [
        {
          "output_type": "display_data",
          "data": {
            "text/html": [
              "\n",
              "  <style>\n",
              "    pre {\n",
              "        white-space: pre-wrap;\n",
              "    }\n",
              "  </style>\n",
              "  "
            ],
            "text/plain": [
              "<IPython.core.display.HTML object>"
            ]
          },
          "metadata": {
            "tags": []
          }
        }
      ]
    },
    {
      "cell_type": "markdown",
      "metadata": {
        "id": "EesuGm1gg5do"
      },
      "source": [
        "## Train Functions"
      ]
    },
    {
      "cell_type": "code",
      "metadata": {
        "colab": {
          "base_uri": "https://localhost:8080/",
          "height": 16
        },
        "id": "FncqKGnbg7lQ",
        "outputId": "742c27d1-f696-4dc7-f086-ef5448af5a19"
      },
      "source": [
        "def maskNLLLoss(inp, target, mask):\n",
        "    # TODO: Reference\n",
        "    nTotal = mask.sum()\n",
        "    crossEntropy = -torch.log(torch.gather(inp, 1, target.view(-1, 1)).squeeze(1))\n",
        "    loss = crossEntropy.masked_select(mask).mean()\n",
        "    loss = loss.to(device)\n",
        "    return loss, nTotal.item()\n",
        "\n",
        "def one_pass(x, y, e_model, d_model, e_optim, d_optim, lengths, mask, max_target_len):\n",
        "    e_optim.zero_grad()\n",
        "    d_optim.zero_grad()\n",
        "\n",
        "    x = torch.tensor(x).to(device)\n",
        "    y = torch.tensor(y).to(device)\n",
        "    mask = mask.to(device)\n",
        "\n",
        "    loss = 0 # loss accumulated from each timestep\n",
        "    pass_loss = [] # loss for one pass\n",
        "\n",
        "    e_output, e_hidden = e_model(x, lengths)\n",
        "\n",
        "    # Create initial decoder input (start with START_CHAR for each sequence)\n",
        "    d_input = torch.LongTensor([[train_word_idx_dict[START_CHAR] for _ in range(BATCH_SIZE)]])\n",
        "    d_input = d_input.to(device)\n",
        "\n",
        "    # Set initial decoder hidden state to the encoder's final hidden state\n",
        "    d_hidden = e_hidden[:d_model.n_layers]\n",
        "    \n",
        "    for i in range(max_target_len):\n",
        "        d_output, d_hidden = d_model(d_input, d_hidden, e_output)\n",
        "\n",
        "        if random.random() < EPSILON:\n",
        "            d_input = y[i].view(1, -1)\n",
        "\n",
        "        else:\n",
        "            # TODO\n",
        "            _, topi = d_output.topk(1) # topi = torch.argmax(d_output, axis=1)\n",
        "            d_input = torch.LongTensor([[topi[i][0] for i in range(BATCH_SIZE)]])\n",
        "            d_input = d_input.to(device)\n",
        "\n",
        "        # Calculate and accumulate loss\n",
        "        mask_loss, nTotal = maskNLLLoss(d_output, y[i], mask[i])\n",
        "        loss += mask_loss\n",
        "\n",
        "        pass_loss.append(mask_loss.item())\n",
        "\n",
        "\n",
        "    loss.backward()\n",
        "    torch.nn.utils.clip_grad_norm_(e_model.parameters(), 1)\n",
        "    torch.nn.utils.clip_grad_norm_(d_model.parameters(), 1)\n",
        "\n",
        "    e_optim.step()\n",
        "    d_optim.step()\n",
        "\n",
        "    return sum(pass_loss) / len(pass_loss)\n",
        "\n",
        "def train(e_model, d_model, e_optim, d_optim, model_name):\n",
        "    print('Training')\n",
        "    e_model.train()\n",
        "    d_model.train()\n",
        "    ep_loss = []\n",
        "\n",
        "    for ep in range(1, EP + 1):\n",
        "        X_samples = []\n",
        "        Y_samples = []\n",
        "        for _ in range(BATCH_SIZE):            \n",
        "            rand_idx = random.randint(0, len(X_Test)-1)\n",
        "            X_samples.append(X_Test[rand_idx])\n",
        "            Y_samples.append(Y_Test[rand_idx])\n",
        "\n",
        "        # article\n",
        "        indexes_batch = [sentence_to_idx(sentence, train_word_idx_dict) for sentence in X_samples]\n",
        "        lengths = torch.tensor([len(indexes) for indexes in indexes_batch])\n",
        "        padList = zeroPadding(indexes_batch, fillvalue=train_word_idx_dict[PAD_CHAR])\n",
        "        X_batch = torch.LongTensor(padList)\n",
        "        \n",
        "        # labels\n",
        "        indexes_batch = [sentence_to_idx(sentence, train_word_idx_dict) for sentence in Y_samples]\n",
        "        max_target_len = max([len(indexes) for indexes in indexes_batch])\n",
        "        padList = zeroPadding(indexes_batch, fillvalue=train_word_idx_dict[PAD_CHAR])\n",
        "        mask = binaryMatrix(padList)\n",
        "        mask = torch.ByteTensor(mask)\n",
        "        Y_batch = torch.LongTensor(padList)\n",
        "\n",
        "        \n",
        "\n",
        "\n",
        "        # TODO\n",
        "        loss = one_pass(X_batch, Y_batch, e_model, d_model, e_optim, d_optim, lengths, mask, max_target_len)\n",
        "\n",
        "        ep_loss.append(loss)\n",
        "\n",
        "        if ep % PRINT_EVERY_EP == 0 and ep > 0:\n",
        "            print(f'EP:{ep} | Loss: {np.array(ep_loss[-PRINT_EVERY_EP:]).mean()}')\n",
        "\n",
        "        # if ep % SAVE_MODEL_EVERY_EP == 0 and ep > 0:\n",
        "        #     torch.save({\n",
        "        #     'epoch': ep,\n",
        "        #     'encoder_model': e_model.state_dict(),\n",
        "        #     'decoder_model': d_model.state_dict(),\n",
        "        #     'encoder_optimizer': e_optim.state_dict(),\n",
        "        #     'decoder_optimizer': d_optim.state_dict(),\n",
        "        #     'loss': loss\n",
        "        #     }, f'{drive_prefix}models/{model_name}/checkpoint_{ep}')\n",
        "\n",
        "    return ep_loss"
      ],
      "execution_count": 22,
      "outputs": [
        {
          "output_type": "display_data",
          "data": {
            "text/html": [
              "\n",
              "  <style>\n",
              "    pre {\n",
              "        white-space: pre-wrap;\n",
              "    }\n",
              "  </style>\n",
              "  "
            ],
            "text/plain": [
              "<IPython.core.display.HTML object>"
            ]
          },
          "metadata": {
            "tags": []
          }
        }
      ]
    },
    {
      "cell_type": "code",
      "metadata": {
        "colab": {
          "base_uri": "https://localhost:8080/",
          "height": 16
        },
        "id": "w0NKyb_FjorU",
        "outputId": "437e9e81-ad0b-42ef-f128-05b57c6234bb"
      },
      "source": [
        "def evaluate(article, encoder, decoder):\n",
        "    encoder.eval()\n",
        "    decoder.eval()\n",
        "\n",
        "    with torch.no_grad():\n",
        "        indexes_batch = [sentence_to_idx(article, train_word_idx_dict)]\n",
        "\n",
        "        # Create lengths tensor\n",
        "        lengths = torch.tensor([len(indexes) for indexes in indexes_batch])\n",
        "        # Transpose dimensions of batch to match models' expectations\n",
        "        input_batch = torch.LongTensor(indexes_batch).transpose(0, 1)\n",
        "        # Use appropriate device\n",
        "        input_batch = input_batch.to(device)\n",
        "        # lengths = lengths.to(device)\n",
        "\n",
        "        e_output, e_hidden = encoder(input_batch, lengths)\n",
        "        d_hidden = e_hidden[:decoder.n_layers]\n",
        "\n",
        "        # Initialize decoder input with SOS_token\n",
        "        d_input = torch.ones(1, 1, device=device, dtype=torch.long) * train_word_idx_dict[START_CHAR]\n",
        "\n",
        "        # Initialize tensors to append decoded words to\n",
        "        all_tokens = torch.zeros([0], device=device, dtype=torch.long)\n",
        "        \n",
        "        for i in range(MAX_DECODER_OUTPUT):\n",
        "            d_output, d_hidden = decoder(d_input, d_hidden, e_output)\n",
        "\n",
        "            scores, d_input = torch.max(d_output, dim=1)\n",
        "\n",
        "            all_tokens = torch.cat((all_tokens, d_input), dim=0)\n",
        "\n",
        "            d_input = torch.unsqueeze(d_input, 0)\n",
        "\n",
        "        tokens = all_tokens\n",
        "\n",
        "        # mask_loss, nTotal = maskNLLLoss(d_output, y[i], mask[i])\n",
        "        # loss += mask_loss\n",
        "\n",
        "        # indexes -> words\n",
        "        decoded_words = [train_idx_word_dict[token.item()] for token in tokens]\n",
        "\n",
        "    return decoded_words"
      ],
      "execution_count": 30,
      "outputs": [
        {
          "output_type": "display_data",
          "data": {
            "text/html": [
              "\n",
              "  <style>\n",
              "    pre {\n",
              "        white-space: pre-wrap;\n",
              "    }\n",
              "  </style>\n",
              "  "
            ],
            "text/plain": [
              "<IPython.core.display.HTML object>"
            ]
          },
          "metadata": {
            "tags": []
          }
        }
      ]
    },
    {
      "cell_type": "markdown",
      "metadata": {
        "id": "S3QSQR2i4xjg"
      },
      "source": [
        "## Run\n",
        "- the performance below is from Data Source 2"
      ]
    },
    {
      "cell_type": "code",
      "metadata": {
        "colab": {
          "base_uri": "https://localhost:8080/",
          "height": 887
        },
        "id": "PT48OrdXnPGK",
        "outputId": "7a4c502b-ea87-4b5a-e765-93784e61399c"
      },
      "source": [
        "# MAIN DRIVER\n",
        "model_name = 'autoencoder_attn'\n",
        "\n",
        "e_embedding_layer = create_pretrained_emb_layer(train_word_vector)\n",
        "d_embedding_layer = create_pretrained_emb_layer(train_word_vector)\n",
        "\n",
        "assert train_word_vector.shape[0] == len(train_word_idx_dict) == len(train_idx_word_dict)\n",
        "\n",
        "encoder = Encoder(E_HIDDEN_DIM, embedding_layer=e_embedding_layer, n_layers=3, dropout=0.3).to(device)\n",
        "decoder = Decoder(D_HIDDEN_DIM, embedding_layer=d_embedding_layer, output_dim=train_word_vector.shape[0], n_layers=3).to(device)\n",
        "\n",
        "e_optim = optim.Adam(encoder.parameters(), lr=1e-3)\n",
        "d_optim = optim.Adam(decoder.parameters(), lr=1e-3)\n",
        "\n",
        "plot_loss = train(encoder, decoder, e_optim, d_optim, model_name=model_name)"
      ],
      "execution_count": 23,
      "outputs": [
        {
          "output_type": "display_data",
          "data": {
            "text/html": [
              "\n",
              "  <style>\n",
              "    pre {\n",
              "        white-space: pre-wrap;\n",
              "    }\n",
              "  </style>\n",
              "  "
            ],
            "text/plain": [
              "<IPython.core.display.HTML object>"
            ]
          },
          "metadata": {
            "tags": []
          }
        },
        {
          "output_type": "stream",
          "text": [
            "Training\n"
          ],
          "name": "stdout"
        },
        {
          "output_type": "stream",
          "text": [
            "/usr/local/lib/python3.6/dist-packages/ipykernel_launcher.py:13: UserWarning: To copy construct from a tensor, it is recommended to use sourceTensor.clone().detach() or sourceTensor.clone().detach().requires_grad_(True), rather than torch.tensor(sourceTensor).\n",
            "  del sys.path[0]\n",
            "/usr/local/lib/python3.6/dist-packages/ipykernel_launcher.py:14: UserWarning: To copy construct from a tensor, it is recommended to use sourceTensor.clone().detach() or sourceTensor.clone().detach().requires_grad_(True), rather than torch.tensor(sourceTensor).\n",
            "  \n",
            "/usr/local/lib/python3.6/dist-packages/ipykernel_launcher.py:5: UserWarning: indexing with dtype torch.uint8 is now deprecated, please use a dtype torch.bool instead. (Triggered internally at  /pytorch/aten/src/ATen/native/IndexingUtils.h:25.)\n",
            "  \"\"\"\n"
          ],
          "name": "stderr"
        },
        {
          "output_type": "stream",
          "text": [
            "EP:100 | Loss: 4.446352240916184\n",
            "EP:200 | Loss: 3.710299094790394\n",
            "EP:300 | Loss: 3.615888891889903\n",
            "EP:400 | Loss: 3.472700108971394\n",
            "EP:500 | Loss: 3.405246657326145\n",
            "EP:600 | Loss: 3.288994682086927\n",
            "EP:700 | Loss: 3.21933060930879\n",
            "EP:800 | Loss: 3.131595725347544\n",
            "EP:900 | Loss: 3.128815248643815\n",
            "EP:1000 | Loss: 2.9941362464451795\n",
            "EP:1100 | Loss: 2.9908835688025484\n",
            "EP:1200 | Loss: 2.816330959904549\n",
            "EP:1300 | Loss: 2.8853740278752067\n",
            "EP:1400 | Loss: 2.8121644522736733\n",
            "EP:1500 | Loss: 2.711385091581623\n",
            "EP:1600 | Loss: 2.6774941475698184\n",
            "EP:1700 | Loss: 2.658153160525816\n",
            "EP:1800 | Loss: 2.552131453041313\n",
            "EP:1900 | Loss: 2.6016928012075637\n",
            "EP:2000 | Loss: 2.517440751837539\n",
            "EP:2100 | Loss: 2.439135944897421\n",
            "EP:2200 | Loss: 2.4024145385530438\n",
            "EP:2300 | Loss: 2.336813087090621\n",
            "EP:2400 | Loss: 2.3198812460119727\n",
            "EP:2500 | Loss: 2.280757819100453\n",
            "EP:2600 | Loss: 2.2362779608307632\n",
            "EP:2700 | Loss: 2.2383336900696578\n",
            "EP:2800 | Loss: 2.1804251188899646\n",
            "EP:2900 | Loss: 2.1532227915037425\n",
            "EP:3000 | Loss: 2.0864002170376095\n",
            "EP:3100 | Loss: 2.041618467373537\n",
            "EP:3200 | Loss: 1.9742709219328483\n",
            "EP:3300 | Loss: 1.9803814721060788\n",
            "EP:3400 | Loss: 1.8943428432530747\n",
            "EP:3500 | Loss: 1.9032502007638445\n",
            "EP:3600 | Loss: 1.8461091924502717\n",
            "EP:3700 | Loss: 1.8299468356713289\n",
            "EP:3800 | Loss: 1.7727026749469283\n",
            "EP:3900 | Loss: 1.7460159659745558\n",
            "EP:4000 | Loss: 1.6663244722783026\n"
          ],
          "name": "stdout"
        }
      ]
    },
    {
      "cell_type": "markdown",
      "metadata": {
        "id": "up1eAxW7y__u"
      },
      "source": [
        "## Train from checkpoint (Optional)"
      ]
    },
    {
      "cell_type": "code",
      "metadata": {
        "id": "r9UcBaxJ7QyZ",
        "colab": {
          "base_uri": "https://localhost:8080/",
          "height": 155
        },
        "outputId": "961e80b2-5bbe-4842-cbdf-0b1992d4466e"
      },
      "source": [
        "ep = 4000\n",
        "checkpoint = torch.load(f'{drive_prefix}models/{model_name}/checkpoint_{ep}')\n",
        "\n",
        "e_embedding_layer = create_pretrained_emb_layer(train_word_vector)\n",
        "d_embedding_layer = create_pretrained_emb_layer(train_word_vector)\n",
        "encoder = Encoder(E_HIDDEN_DIM, n_layers=3, embedding_layer=e_embedding_layer).to(device)\n",
        "decoder = Decoder(D_HIDDEN_DIM, embedding_layer=d_embedding_layer, output_dim=train_word_vector.shape[0], n_layers=3).to(device)\n",
        "\n",
        "encoder.load_state_dict(checkpoint['encoder_model'])\n",
        "decoder.load_state_dict(checkpoint['decoder_model'])\n",
        "print('Loaded model for evaluation')\n",
        "\n",
        "random_idx = np.random.randint(0, len(X_Test))\n",
        "pred_summary = ' '.join([token for token in evaluate(X_Test[random_idx], encoder, decoder) if token != PAD_CHAR])\n",
        "true_summary = Y_Test[random_idx]\n",
        "print(X_Test[random_idx])\n",
        "print(f'True: {true_summary}')\n",
        "print(f'Pred: {pred_summary}')"
      ],
      "execution_count": null,
      "outputs": [
        {
          "output_type": "display_data",
          "data": {
            "text/html": [
              "\n",
              "  <style>\n",
              "    pre {\n",
              "        white-space: pre-wrap;\n",
              "    }\n",
              "  </style>\n",
              "  "
            ],
            "text/plain": [
              "<IPython.core.display.HTML object>"
            ]
          },
          "metadata": {
            "tags": []
          }
        },
        {
          "output_type": "stream",
          "text": [
            "Loaded model for evaluation\n",
            "charlie austin has revealed how his good mate joey barton ignored him on his first day at queens park rangers before realising his mistake with the duo then becoming good friends the striker has had a premier league debut season to remember and is being touted as a possible england debutant in the future after scoring goals in the competition his close friendship with club captain barton is well publicised but they are first encounter is one austin is unlikely to forget charlie austin lrb left rrb and joey barton have become good friends despite their very early setback speaking\n",
            "True: starttoken t charlie austin revealed that joey barton ignored him on his first day t t the pair are good friends now following the hilarious incident t t the 25yearold says qpr ca not afford to lose in their double header t t austin is delighted and humbled to be fourth endtoken\n",
            "Pred: starttoken t charlie austin revealed he joey barton ignored him on the first season t t the pair are currently enjoying the hilarious incident t t the 25yearold says he ca not afford to lose his his header t t austin was delighted and humbled to be fourth endtoken endtoken\n"
          ],
          "name": "stdout"
        }
      ]
    },
    {
      "cell_type": "code",
      "metadata": {
        "colab": {
          "base_uri": "https://localhost:8080/",
          "height": 16
        },
        "id": "tzXdurwjrfWp",
        "outputId": "96a5fd61-3bd3-4ee8-8455-1c070d6f6d66"
      },
      "source": [
        "def compute_rouge(pred_summaries, true_summaries):\r\n",
        "  from rouge_score import rouge_scorer\r\n",
        "  scorer = rouge_scorer.RougeScorer(['rouge1', 'rougeL'], use_stemmer=True)\r\n",
        "  rogue1_precision = []\r\n",
        "  rogue1_recall = []\r\n",
        "  rogue1_fmeasure = []\r\n",
        "  rogueL_precision = []\r\n",
        "  rogueL_recall = []\r\n",
        "  rogueL_fmeasure = []\r\n",
        "  for i in range(len(pred_summaries)):\r\n",
        "    score = scorer.score(pred_summaries[i], true_summaries[i])\r\n",
        "    rogue1_precision.append(score['rouge1'].precision)\r\n",
        "    rogue1_recall.append(score['rouge1'].recall)\r\n",
        "    rogue1_fmeasure.append(score['rouge1'].fmeasure)\r\n",
        "    rogueL_precision.append(score['rougeL'].precision)\r\n",
        "    rogueL_recall.append(score['rougeL'].recall)\r\n",
        "    rogueL_fmeasure.append(score['rougeL'].fmeasure)\r\n",
        "  \r\n",
        "  scores = {'rogue1_precision':rogue1_precision, 'rogue1_recall':rogue1_recall, 'rogue1_fmeasure': rogue1_fmeasure, 'rogueL_precision':rogueL_precision, 'rogueL_recall':rogueL_recall, 'rogueL_fmeasure': rogueL_fmeasure }\r\n",
        "  return scores"
      ],
      "execution_count": 24,
      "outputs": [
        {
          "output_type": "display_data",
          "data": {
            "text/html": [
              "\n",
              "  <style>\n",
              "    pre {\n",
              "        white-space: pre-wrap;\n",
              "    }\n",
              "  </style>\n",
              "  "
            ],
            "text/plain": [
              "<IPython.core.display.HTML object>"
            ]
          },
          "metadata": {
            "tags": []
          }
        }
      ]
    },
    {
      "cell_type": "code",
      "metadata": {
        "colab": {
          "base_uri": "https://localhost:8080/",
          "height": 16
        },
        "id": "ssjzstXvrgTI",
        "outputId": "beea550c-e7aa-4a13-8c25-da75f445f45e"
      },
      "source": [
        "def compute_rouge_summary_stats(scores):\r\n",
        "  def mean_confidence_interval(data, confidence=0.95):\r\n",
        "    import scipy.stats\r\n",
        "    a = 1.0 * np.array(data)\r\n",
        "    n = len(a)\r\n",
        "    m, se = np.mean(a), scipy.stats.sem(a)\r\n",
        "    h = se * scipy.stats.t.ppf((1 + confidence) / 2., n-1)\r\n",
        "    return m, m-h, m+h\r\n",
        "  stats = {}\r\n",
        "  for key in scores.keys():\r\n",
        "    stats[key] = mean_confidence_interval(scores[key])\r\n",
        "  return stats"
      ],
      "execution_count": 25,
      "outputs": [
        {
          "output_type": "display_data",
          "data": {
            "text/html": [
              "\n",
              "  <style>\n",
              "    pre {\n",
              "        white-space: pre-wrap;\n",
              "    }\n",
              "  </style>\n",
              "  "
            ],
            "text/plain": [
              "<IPython.core.display.HTML object>"
            ]
          },
          "metadata": {
            "tags": []
          }
        }
      ]
    },
    {
      "cell_type": "code",
      "metadata": {
        "colab": {
          "base_uri": "https://localhost:8080/",
          "height": 16
        },
        "id": "iVEiwq7nrpqD",
        "outputId": "57708fa3-a5db-4802-8ccb-075ac27f1755"
      },
      "source": [
        "def evaluate_all(X, Y):\r\n",
        "  pred_summaries, true_summaries = [], []\r\n",
        "  for ind in range(len(X)):\r\n",
        "    pred_summary = ' '.join([token for token in evaluate(X[ind], encoder, decoder) if token != PAD_CHAR])\r\n",
        "    true_summary = Y[ind]\r\n",
        "    pred_summaries.append(pred_summary)\r\n",
        "    true_summaries.append(true_summary)\r\n",
        "  return pred_summaries, true_summaries"
      ],
      "execution_count": 26,
      "outputs": [
        {
          "output_type": "display_data",
          "data": {
            "text/html": [
              "\n",
              "  <style>\n",
              "    pre {\n",
              "        white-space: pre-wrap;\n",
              "    }\n",
              "  </style>\n",
              "  "
            ],
            "text/plain": [
              "<IPython.core.display.HTML object>"
            ]
          },
          "metadata": {
            "tags": []
          }
        }
      ]
    },
    {
      "cell_type": "code",
      "metadata": {
        "colab": {
          "base_uri": "https://localhost:8080/",
          "height": 16
        },
        "id": "8lyOChzt09xS",
        "outputId": "b2d8bebd-00fd-4176-d206-78a164a8720d"
      },
      "source": [
        "pred_summaries, true_summaries = evaluate_all(X_Val, Y_Val)"
      ],
      "execution_count": 31,
      "outputs": [
        {
          "output_type": "display_data",
          "data": {
            "text/html": [
              "\n",
              "  <style>\n",
              "    pre {\n",
              "        white-space: pre-wrap;\n",
              "    }\n",
              "  </style>\n",
              "  "
            ],
            "text/plain": [
              "<IPython.core.display.HTML object>"
            ]
          },
          "metadata": {
            "tags": []
          }
        }
      ]
    },
    {
      "cell_type": "code",
      "metadata": {
        "colab": {
          "base_uri": "https://localhost:8080/",
          "height": 16
        },
        "id": "lF7aboyW2Wvg",
        "outputId": "ed6c8355-45e1-44fa-eb3b-9fec37bd87e9"
      },
      "source": [
        "pred_summaries_filtered  = [' '.join([token for token in summary.split() if token != 'starttoken' and token != 't' and token != 'endtoken']) for summary in pred_summaries]\r\n",
        "true_summaries_filtered  = [' '.join([token for token in summary.split() if token != 'starttoken' and token != 't' and token != 'endtoken']) for summary in true_summaries]"
      ],
      "execution_count": 47,
      "outputs": [
        {
          "output_type": "display_data",
          "data": {
            "text/html": [
              "\n",
              "  <style>\n",
              "    pre {\n",
              "        white-space: pre-wrap;\n",
              "    }\n",
              "  </style>\n",
              "  "
            ],
            "text/plain": [
              "<IPython.core.display.HTML object>"
            ]
          },
          "metadata": {
            "tags": []
          }
        }
      ]
    },
    {
      "cell_type": "code",
      "metadata": {
        "colab": {
          "base_uri": "https://localhost:8080/",
          "height": 16
        },
        "id": "hStKjK-B17eY",
        "outputId": "6168fecb-0a2e-41b6-f17f-fe3581833f01"
      },
      "source": [
        "scores = compute_rouge(pred_summaries_filtered, true_summaries_filtered)"
      ],
      "execution_count": 50,
      "outputs": [
        {
          "output_type": "display_data",
          "data": {
            "text/html": [
              "\n",
              "  <style>\n",
              "    pre {\n",
              "        white-space: pre-wrap;\n",
              "    }\n",
              "  </style>\n",
              "  "
            ],
            "text/plain": [
              "<IPython.core.display.HTML object>"
            ]
          },
          "metadata": {
            "tags": []
          }
        }
      ]
    },
    {
      "cell_type": "code",
      "metadata": {
        "colab": {
          "base_uri": "https://localhost:8080/",
          "height": 336
        },
        "id": "v_rLjEkm2FxQ",
        "outputId": "ffc47045-5bae-4f5f-f001-18dd72210b37"
      },
      "source": [
        "compute_rouge_summary_stats(scores)"
      ],
      "execution_count": 51,
      "outputs": [
        {
          "output_type": "display_data",
          "data": {
            "text/html": [
              "\n",
              "  <style>\n",
              "    pre {\n",
              "        white-space: pre-wrap;\n",
              "    }\n",
              "  </style>\n",
              "  "
            ],
            "text/plain": [
              "<IPython.core.display.HTML object>"
            ]
          },
          "metadata": {
            "tags": []
          }
        },
        {
          "output_type": "execute_result",
          "data": {
            "text/plain": [
              "{'rogue1_fmeasure': (0.17642904634314047,\n",
              "  0.1715228988669806,\n",
              "  0.18133519381930033),\n",
              " 'rogue1_precision': (0.16803381509205856,\n",
              "  0.1633746845625774,\n",
              "  0.17269294562153972),\n",
              " 'rogue1_recall': (0.19664710905593996,\n",
              "  0.19027010862922733,\n",
              "  0.2030241094826526),\n",
              " 'rogueL_fmeasure': (0.12998914272363157,\n",
              "  0.1264605188316175,\n",
              "  0.13351776661564566),\n",
              " 'rogueL_precision': (0.12441533363197836,\n",
              "  0.12094140801327362,\n",
              "  0.12788925925068312),\n",
              " 'rogueL_recall': (0.14401958192143843,\n",
              "  0.1396030806098731,\n",
              "  0.14843608323300378)}"
            ]
          },
          "metadata": {
            "tags": []
          },
          "execution_count": 51
        }
      ]
    }
  ]
}